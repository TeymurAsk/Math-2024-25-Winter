{
  "nbformat": 4,
  "nbformat_minor": 0,
  "metadata": {
    "colab": {
      "provenance": [],
      "authorship_tag": "ABX9TyPbodspprtrvaCaK6XCB593",
      "include_colab_link": true
    },
    "kernelspec": {
      "name": "python3",
      "display_name": "Python 3"
    },
    "language_info": {
      "name": "python"
    }
  },
  "cells": [
    {
      "cell_type": "markdown",
      "metadata": {
        "id": "view-in-github",
        "colab_type": "text"
      },
      "source": [
        "<a href=\"https://colab.research.google.com/github/TeymurAsk/Math-2024-25-Winter/blob/main/Notebooks_EN/03_Mathematical_Analysis/19_Limits_Of_Sequences/Limits_Of_Sequences_Solutions.ipynb\" target=\"_parent\"><img src=\"https://colab.research.google.com/assets/colab-badge.svg\" alt=\"Open In Colab\"/></a>"
      ]
    },
    {
      "cell_type": "markdown",
      "source": [
        "# Limits and the Squeeze Theorem\n",
        "\n",
        "## 1. Compute $ \\lim\\limits_{n \\to \\infty} \\frac{n^2 + 3n^2}{n^2 - 2n} $\n",
        "\n",
        "Factor $ n^2 $ in both the numerator and denominator:\n",
        "\n",
        "$\n",
        "\\frac{n^2 + 3n^2}{n^2 - 2n} = \\frac{4n^2}{n^2(1 - \\frac{2}{n})}\n",
        "$\n",
        "\n",
        "As $ n \\to \\infty $, the term $ \\frac{2}{n} \\to 0 $, so:\n",
        "\n",
        "$\n",
        "\\lim\\limits_{n \\to \\infty} \\frac{4n^2}{n^2(1 - \\frac{2}{n})} = \\lim\\limits_{n \\to \\infty} \\frac{4}{1 - 0} = 4\n",
        "$\n",
        "\n",
        "Thus, the limit is:\n",
        "\n",
        "$\n",
        "\\lim\\limits_{n \\to \\infty} \\frac{n^2 + 3n^2}{n^2 - 2n} = 4\n",
        "$\n",
        "\n",
        "---\n",
        "\n",
        "## 2. Compute $ \\lim\\limits_{n \\to \\infty} \\frac{(2n + 3)}{3n^3 - 1} $\n",
        "\n",
        "Factor $ n^3 $ in the denominator:\n",
        "\n",
        "$\n",
        "\\frac{2n + 3}{3n^3 - 1} = \\frac{n(2 + \\frac{3}{n})}{n^3(3 - \\frac{1}{n^3})}\n",
        "$\n",
        "\n",
        "Rewriting:\n",
        "\n",
        "$\n",
        "\\frac{2 + \\frac{3}{n}}{n^2(3 - \\frac{1}{n^3})}\n",
        "$\n",
        "\n",
        "As $ n \\to \\infty $, we get:\n",
        "\n",
        "$\n",
        "\\lim\\limits_{n \\to \\infty} \\frac{2 + \\frac{3}{n}}{n^2(3 - 0)} = \\lim\\limits_{n \\to \\infty} \\frac{2}{3n^2} = 0\n",
        "$\n",
        "\n",
        "Thus, the limit is:\n",
        "\n",
        "$\n",
        "\\lim\\limits_{n \\to \\infty} \\frac{2n + 3}{3n^3 - 1} = 0\n",
        "$\n",
        "\n",
        "---\n",
        "\n",
        "## 3. Prove Using the Squeeze Theorem:\n",
        "\n",
        "$\n",
        "\\lim\\limits_{n \\to \\infty} \\frac{\\sin(n)}{n}\n",
        "$\n",
        "\n",
        "Since $ -1 \\leq \\sin(n) \\leq 1 $, dividing by $ n $ (which is positive for large $ n $ ) gives:\n",
        "\n",
        "$\n",
        "- \\frac{1}{n} \\leq \\frac{\\sin(n)}{n} \\leq \\frac{1}{n}\n",
        "$\n",
        "\n",
        "Since $ \\lim\\limits_{n \\to \\infty} -\\frac{1}{n} = 0 $ and $ \\lim\\limits_{n \\to \\infty} \\frac{1}{n} = 0 $, the Squeeze Theorem implies:\n",
        "\n",
        "$\n",
        "\\lim\\limits_{n \\to \\infty} \\frac{\\sin(n)}{n} = 0\n",
        "$\n",
        "\n",
        "---\n",
        "\n",
        "## 4. Find $ \\lim\\limits_{n \\to \\infty} a_n $, where:\n",
        "\n",
        "$\n",
        "a_n = \\left( 1 + \\frac{1}{n} \\right)^n\n",
        "$\n",
        "\n",
        "Using the definition of $ e $:\n",
        "\n",
        "$\n",
        "\\lim\\limits_{n \\to \\infty} \\left( 1 + \\frac{1}{n} \\right)^n = e\n",
        "$\n",
        "\n",
        "Thus, we conclude:\n",
        "\n",
        "$\n",
        "\\lim\\limits_{n \\to \\infty} a_n = e\n",
        "$\n"
      ],
      "metadata": {
        "id": "T9PHpfRnWowc"
      }
    }
  ]
}