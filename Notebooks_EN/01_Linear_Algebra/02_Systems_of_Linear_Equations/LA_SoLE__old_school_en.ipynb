{
  "cells": [
    {
      "cell_type": "markdown",
      "metadata": {
        "id": "ypD54R1B91DH"
      },
      "source": [
        "# School Method for Solving Systems of Linear Equations"
      ]
    },
    {
      "cell_type": "code",
      "execution_count": null,
      "metadata": {
        "id": "cq-8Hnrb91DI"
      },
      "outputs": [],
      "source": [
        "import sympy as sp\n",
        "from sympy import symbols, Eq, expand, solve\n",
        "\n",
        "class EnhancedEq(Eq):\n",
        "    def __add__(self, other):\n",
        "        return EnhancedEq(self.lhs + other.lhs, self.rhs + other.rhs)\n",
        "\n",
        "    def __sub__(self, other):\n",
        "        return EnhancedEq(self.lhs - other.lhs, self.rhs - other.rhs)\n",
        "\n",
        "    def __mul__(self, scalar):\n",
        "        return EnhancedEq(scalar * self.lhs, scalar * self.rhs)\n",
        "\n",
        "    def __rmul__(self, scalar):\n",
        "        return self.__mul__(scalar)\n",
        "\n",
        "    def simplify(self):\n",
        "        return EnhancedEq(expand(self.lhs), expand(self.rhs))\n",
        "\n",
        "    def substitute(self, *args, **kwargs):\n",
        "        return EnhancedEq(self.lhs.subs(*args, **kwargs), self.rhs.subs(*args, **kwargs))\n",
        "\n",
        "    def solve_for(self, symbol):\n",
        "        return solve(self, symbol)\n",
        "\n",
        "# Example usage:\n",
        "x, y = symbols('x y')\n",
        "\n",
        "# Define equations\n",
        "eq1 = EnhancedEq(2*x + y, 5)\n",
        "eq2 = EnhancedEq(x - y, 1)"
      ]
    },
    {
      "cell_type": "code",
      "execution_count": null,
      "metadata": {
        "id": "2AO0lHxK91DJ",
        "outputId": "88491b28-40ae-4feb-b11b-dcd1fc41acf8"
      },
      "outputs": [
        {
          "name": "stdout",
          "output_type": "stream",
          "text": [
            "First equation:\n"
          ]
        },
        {
          "data": {
            "text/latex": [
              "$\\displaystyle 2 x + y = 5$"
            ],
            "text/plain": [
              "Eq(2*x + y, 5)"
            ]
          },
          "execution_count": 2,
          "metadata": {},
          "output_type": "execute_result"
        }
      ],
      "source": [
        "print(\"First equation:\")\n",
        "eq1"
      ]
    },
    {
      "cell_type": "code",
      "execution_count": null,
      "metadata": {
        "id": "25FDiPRO91DK",
        "outputId": "4cbd525d-2fea-4522-87d4-1a2f4b832362"
      },
      "outputs": [
        {
          "name": "stdout",
          "output_type": "stream",
          "text": [
            "Second equation:\n"
          ]
        },
        {
          "data": {
            "text/latex": [
              "$\\displaystyle x - y = 1$"
            ],
            "text/plain": [
              "Eq(x - y, 1)"
            ]
          },
          "execution_count": 3,
          "metadata": {},
          "output_type": "execute_result"
        }
      ],
      "source": [
        "print(\"Second equation:\")\n",
        "eq2"
      ]
    },
    {
      "cell_type": "code",
      "execution_count": null,
      "metadata": {
        "id": "CMzNAxFg91DK",
        "outputId": "d8876e5b-ae4c-486c-f13f-0379ef421ad9"
      },
      "outputs": [
        {
          "data": {
            "text/latex": [
              "$\\displaystyle 3 x = 6$"
            ],
            "text/plain": [
              "Eq(3*x, 6)"
            ]
          },
          "execution_count": 4,
          "metadata": {},
          "output_type": "execute_result"
        }
      ],
      "source": [
        "# Add the equations\n",
        "eq3 = eq1 + eq2\n",
        "eq3"
      ]
    },
    {
      "cell_type": "code",
      "execution_count": null,
      "metadata": {
        "id": "4lEd5pSZ91DK",
        "outputId": "333cb15f-59c9-41d6-8c39-ef9dc5e83b56"
      },
      "outputs": [
        {
          "data": {
            "text/latex": [
              "$\\displaystyle 2$"
            ],
            "text/plain": [
              "2"
            ]
          },
          "execution_count": 5,
          "metadata": {},
          "output_type": "execute_result"
        }
      ],
      "source": [
        "# We have an equation with one unknown, so we can solve it\n",
        "sol_x = eq3.solve_for(x)[0]\n",
        "sol_x"
      ]
    },
    {
      "cell_type": "code",
      "execution_count": null,
      "metadata": {
        "id": "L2E-spXO91DK",
        "outputId": "42e35907-5f46-4548-c7fb-818cfd286047"
      },
      "outputs": [
        {
          "data": {
            "text/latex": [
              "$\\displaystyle 2 - y = 1$"
            ],
            "text/plain": [
              "Eq(2 - y, 1)"
            ]
          },
          "execution_count": 6,
          "metadata": {},
          "output_type": "execute_result"
        }
      ],
      "source": [
        "# Substitute the solution into equation 2\n",
        "eq2 = eq2.substitute(x, sol_x)\n",
        "eq2"
      ]
    },
    {
      "cell_type": "code",
      "execution_count": null,
      "metadata": {
        "id": "qMDZdC1e91DL",
        "outputId": "888ece2e-5f1f-4c15-eda9-46a332a1cde2"
      },
      "outputs": [
        {
          "data": {
            "text/latex": [
              "$\\displaystyle 1$"
            ],
            "text/plain": [
              "1"
            ]
          },
          "execution_count": 7,
          "metadata": {},
          "output_type": "execute_result"
        }
      ],
      "source": [
        "# We get an equation with one unknown, so we can solve it\n",
        "eq2.solve_for(y)[0]"
      ]
    },
    {
      "cell_type": "code",
      "execution_count": null,
      "metadata": {
        "id": "STFixjf991DL",
        "outputId": "901c56cc-0cda-47a9-8501-71af1a953d42"
      },
      "outputs": [
        {
          "data": {
            "text/plain": [
              "{x: 2, y: 1}"
            ]
          },
          "execution_count": 8,
          "metadata": {},
          "output_type": "execute_result"
        }
      ],
      "source": [
        "# Thus x=2, y=1\n",
        "# Verify with sympy\n",
        "sp.solve([eq1, eq2])"
      ]
    },
    {
      "cell_type": "markdown",
      "metadata": {
        "id": "uaH-gmsU91DL"
      },
      "source": [
        "---\n",
        "\n",
        "### Exercises for Students\n",
        "\n",
        "Solve the following systems of equations similarly to the example above:\n",
        "\n",
        "* $3x-2y=5, \\quad 2x+3y=7$, x=29/13, y = 11/13\n",
        "* $2x-3y=10, \\quad 4x+5y=20$, x=5,y=0\n",
        "* $2x - y + z = 3, \\quad x + 2y - z = 1, \\quad 3x - y + 2z = 11$.\n",
        "* $2x-3y+4z+2t=2, \\quad 3x+2y-5z+3t=3, \\quad 4x-3y+2z-5t=4, \\quad 5x+4y-3z+2t=5$."
      ]
    }
  ],
  "metadata": {
    "kernelspec": {
      "display_name": "Python 3",
      "language": "python",
      "name": "python3"
    },
    "language_info": {
      "codemirror_mode": {
        "name": "ipython",
        "version": 3
      },
      "file_extension": ".py",
      "mimetype": "text/x-python",
      "name": "python",
      "nbconvert_exporter": "python",
      "pygments_lexer": "ipython3",
      "version": "3.11.9"
    },
    "colab": {
      "provenance": []
    }
  },
  "nbformat": 4,
  "nbformat_minor": 0
}