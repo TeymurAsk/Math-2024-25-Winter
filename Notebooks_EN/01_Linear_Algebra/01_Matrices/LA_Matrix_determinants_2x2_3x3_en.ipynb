{
  "cells": [
    {
      "cell_type": "markdown",
      "metadata": {
        "id": "9cYG35xo1WS8"
      },
      "source": [
        "# Determinants of 2x2 and 3x3 matrices\n",
        "\n",
        "### Determinant of a 2x2 Matrix\n",
        "\n",
        "The general formula for the determinant of a 2x2 matrix, where the matrix looks as follows:\n",
        "\n",
        "$$\n",
        "\\mathbf{A} =\n",
        "\\begin{pmatrix}\n",
        "a_{11} & a_{12} \\\\\n",
        "a_{21} & a_{22}\n",
        "\\end{pmatrix}\n",
        "$$\n",
        "\n",
        "The determinant of a 2x2 matrix is calculated using the formula:\n",
        "\n",
        "$$\n",
        "\\text{det}(A) = a_{11} \\cdot a_{22} - a_{12} \\cdot a_{21}\n",
        "$$\n",
        "\n",
        "### Determinant of a 3x3 Matrix\n",
        "\n",
        "The general formula for the determinant of a 3x3 matrix, where the matrix looks as follows:\n",
        "\n",
        "$$\n",
        "\\mathbf{B} =\n",
        "\\begin{pmatrix}\n",
        "a_{11} & a_{12} & a_{13} \\\\\n",
        "a_{21} & a_{22} & a_{23} \\\\\n",
        "a_{31} & a_{32} & a_{33}\n",
        "\\end{pmatrix}\n",
        "$$\n",
        "\n",
        "The determinant of a 3x3 matrix can be calculated using Sarrus' rule or Laplace expansion. Here, we will use Sarrus' rule:\n",
        "\n",
        "$$\n",
        "\\text{det}(B) = a_{11} \\cdot a_{22} \\cdot a_{33} + a_{12} \\cdot a_{23} \\cdot a_{31} + a_{13} \\cdot a_{21} \\cdot a_{32}\n",
        "- a_{13} \\cdot a_{22} \\cdot a_{31} - a_{12} \\cdot a_{21} \\cdot a_{33} - a_{11} \\cdot a_{23} \\cdot a_{32}\n",
        "$$\n",
        "\n",
        "<img src=\"https://upload.wikimedia.org/wikipedia/commons/c/c0/Sarrus_rule1.svg\" alt=\"Image description\" width=\"300\" align=\"center\"/>\n",
        "\n",
        "Note: Sarrus' rule does not work for matrices larger than 3x3.\n",
        "\n",
        "### Calculating Determinants in Python using SymPy\n",
        "\n",
        "Now, using the SymPy library, we will calculate the determinants for 2x2 and 3x3 matrices."
      ]
    },
    {
      "cell_type": "code",
      "execution_count": null,
      "metadata": {
        "id": "G3EUO0Zi1WTA",
        "outputId": "3efd5a2c-5ffe-44aa-f6a1-b775d49ef481"
      },
      "outputs": [
        {
          "data": {
            "text/latex": [
              "$\\displaystyle \\left[\\begin{matrix}2 & 3\\\\1 & 4\\end{matrix}\\right]$"
            ],
            "text/plain": [
              "Matrix([\n",
              "[2, 3],\n",
              "[1, 4]])"
            ]
          },
          "execution_count": 1,
          "metadata": {},
          "output_type": "execute_result"
        }
      ],
      "source": [
        "import sympy as sp\n",
        "\n",
        "# Define the matrix\n",
        "A = sp.Matrix([[2, 3], [1, 4]])\n",
        "A # display the matrix"
      ]
    },
    {
      "cell_type": "code",
      "execution_count": null,
      "metadata": {
        "notebookRunGroups": {
          "groupValue": "2"
        },
        "id": "jarXcQq91WTD",
        "outputId": "95785534-8485-4f72-e43a-5125492a4016"
      },
      "outputs": [
        {
          "data": {
            "text/plain": [
              "True"
            ]
          },
          "execution_count": 2,
          "metadata": {},
          "output_type": "execute_result"
        }
      ],
      "source": [
        "# Verify the correctness of the calculations\n",
        "(2*4 - 3*1) == A.det()"
      ]
    },
    {
      "cell_type": "code",
      "execution_count": null,
      "metadata": {
        "id": "Zxp6opQG1WTD",
        "outputId": "7a168759-fb45-48b5-9979-c55d1b1a65cb"
      },
      "outputs": [
        {
          "data": {
            "text/latex": [
              "$\\displaystyle \\left[\\begin{matrix}2 & 3 & 1\\\\1 & 4 & 5\\\\3 & 2 & 1\\end{matrix}\\right]$"
            ],
            "text/plain": [
              "Matrix([\n",
              "[2, 3, 1],\n",
              "[1, 4, 5],\n",
              "[3, 2, 1]])"
            ]
          },
          "execution_count": 3,
          "metadata": {},
          "output_type": "execute_result"
        }
      ],
      "source": [
        "# 3x3 Matrix\n",
        "B = sp.Matrix([[2, 3, 1], [1, 4, 5], [3, 2, 1]])\n",
        "B"
      ]
    },
    {
      "cell_type": "code",
      "execution_count": null,
      "metadata": {
        "id": "Di_77YKI1WTE",
        "outputId": "f7531110-a5df-4cda-a60b-8956ef09c1a8"
      },
      "outputs": [
        {
          "data": {
            "text/plain": [
              "True"
            ]
          },
          "execution_count": 4,
          "metadata": {},
          "output_type": "execute_result"
        }
      ],
      "source": [
        "# Verify the correctness of the calculations\n",
        "(2*4*1 + 3*5*3 + 1*1*2 - 1*4*3 - 5*2*2 - 3*1*1) == B.det()"
      ]
    },
    {
      "cell_type": "markdown",
      "metadata": {
        "id": "XJGAiE6G1WTF"
      },
      "source": [
        "---\n",
        "\n",
        "## Exercises for Students\n",
        "\n",
        "Calculate the determinants for the 2x2 and 3x3 matrices given below.\n",
        "\n",
        "1. 2x2 Matrices:\n",
        "\n",
        "$$\n",
        "\\mathbf{A} =\n",
        "\\begin{pmatrix}\n",
        "2 & 3 \\\\\n",
        "1 & 4\n",
        "\\end{pmatrix}\n",
        ", \\qquad\n",
        "\\mathbf{B} =\n",
        "\\begin{pmatrix}\n",
        "5 & 6 \\\\\n",
        "7 & 8\n",
        "\\end{pmatrix}\n",
        ", \\qquad\n",
        "\\mathbf{C} =\n",
        "\\begin{pmatrix}\n",
        "-1 & 2 \\\\\n",
        "3 & 0\n",
        "\\end{pmatrix}\n",
        "$$\n",
        "\n",
        "2. 3x3 Matrices:\n",
        "\n",
        "\n",
        "$$\n",
        "\\mathbf{D} =\n",
        "\\begin{pmatrix}\n",
        "1 & 0 & 2 \\\\\n",
        "-1 & 3 & 1 \\\\\n",
        "2 & 4 & -2\n",
        "\\end{pmatrix}\n",
        ", \\qquad\n",
        "\\mathbf{E} =\n",
        "\\begin{pmatrix}\n",
        "3 & 1 & -1 \\\\\n",
        "0 & 2 & 4 \\\\\n",
        "5 & 3 & 2\n",
        "\\end{pmatrix}\n",
        ", \\qquad\n",
        "\\mathbf{F} =\n",
        "\\begin{pmatrix}\n",
        "2 & -3 & 1 \\\\\n",
        "1 & 4 & -2 \\\\\n",
        "1 & 5 & 3\n",
        "\\end{pmatrix}\n",
        "$$"
      ]
    },
    {
      "cell_type": "markdown",
      "source": [
        "---\n",
        "\n",
        "## Solutions\n",
        "\n",
        "### Determinants of 2x2 Matrices\n",
        "\n",
        "#### 1. A:\n",
        "$$\n",
        "\\text{det}(\\mathbf{A}) = (2)(4) - (3)(1) = 8 - 3 = 5\n",
        "$$\n",
        "\n",
        "#### 2. B:\n",
        "$$\n",
        "\\text{det}(\\mathbf{B}) = (5)(8) - (6)(7) = 40 - 42 = -2\n",
        "$$\n",
        "\n",
        "#### 3. C:\n",
        "$$\n",
        "\\text{det}(\\mathbf{C}) = (-1)(0) - (2)(3) = 0 - 6 = -6\n",
        "$$\n",
        "\n",
        "---\n",
        "\n",
        "### Determinants of 3x3 Matrices\n",
        "\n",
        "#### 1. Matrix D:\n",
        "Using cofactor expansion along the first row:\n",
        "$$\n",
        "\\text{det}(\\mathbf{D}) = 1 \\begin{vmatrix} 3 & 1 \\\\ 4 & -2 \\end{vmatrix}\n",
        "- 0 \\begin{vmatrix} -1 & 1 \\\\ 2 & -2 \\end{vmatrix}\n",
        "+ 2 \\begin{vmatrix} -1 & 3 \\\\ 2 & 4 \\end{vmatrix}\n",
        "$$\n",
        "\n",
        "Calculate the minors:\n",
        "$$\n",
        "\\begin{vmatrix} 3 & 1 \\\\ 4 & -2 \\end{vmatrix} = (3)(-2) - (1)(4) = -6 - 4 = -10\n",
        "$$\n",
        "$$\n",
        "\\begin{vmatrix} -1 & 3 \\\\ 2 & 4 \\end{vmatrix} = (-1)(4) - (3)(2) = -4 - 6 = -10\n",
        "$$\n",
        "\n",
        "Substitute:\n",
        "$$\n",
        "\\text{det}(\\mathbf{D}) = 1(-10) + 0 + 2(-10) = -10 - 20 = -30\n",
        "$$\n",
        "\n",
        "#### 2. Matrix E:\n",
        "Using cofactor expansion along the first row:\n",
        "$$\n",
        "\\text{det}(\\mathbf{E}) = 3 \\begin{vmatrix} 2 & 4 \\\\ 3 & 2 \\end{vmatrix}\n",
        "- 1 \\begin{vmatrix} 0 & 4 \\\\ 5 & 2 \\end{vmatrix}\n",
        "+ (-1) \\begin{vmatrix} 0 & 2 \\\\ 5 & 3 \\end{vmatrix}\n",
        "$$\n",
        "\n",
        "Calculate the minors:\n",
        "$$\n",
        "\\begin{vmatrix} 2 & 4 \\\\ 3 & 2 \\end{vmatrix} = (2)(2) - (4)(3) = 4 - 12 = -8\n",
        "$$\n",
        "$$\n",
        "\\begin{vmatrix} 0 & 4 \\\\ 5 & 2 \\end{vmatrix} = (0)(2) - (4)(5) = -20\n",
        "$$\n",
        "$$\n",
        "\\begin{vmatrix} 0 & 2 \\\\ 5 & 3 \\end{vmatrix} = (0)(3) - (2)(5) = -10\n",
        "$$\n",
        "\n",
        "Substitute:\n",
        "$$\n",
        "\\text{det}(\\mathbf{E}) = 3(-8) - 1(-20) + (-1)(-10) = -24 + 20 + 10 = 6\n",
        "$$\n",
        "\n",
        "#### 3.Matrix F:\n",
        "Using cofactor expansion along the first row:\n",
        "$$\n",
        "\\text{det}(\\mathbf{F}) = 2 \\begin{vmatrix} 4 & -2 \\\\ 5 & 3 \\end{vmatrix}\n",
        "- (-3) \\begin{vmatrix} 1 & -2 \\\\ 1 & 3 \\end{vmatrix}\n",
        "+ 1 \\begin{vmatrix} 1 & 4 \\\\ 1 & 5 \\end{vmatrix}\n",
        "$$\n",
        "\n",
        "Calculate the minors:\n",
        "$$\n",
        "\\begin{vmatrix} 4 & -2 \\\\ 5 & 3 \\end{vmatrix} = (4)(3) - (-2)(5) = 12 + 10 = 22\n",
        "$$\n",
        "$$\n",
        "\\begin{vmatrix} 1 & -2 \\\\ 1 & 3 \\end{vmatrix} = (1)(3) - (-2)(1) = 3 + 2 = 5\n",
        "$$\n",
        "$$\n",
        "\\begin{vmatrix} 1 & 4 \\\\ 1 & 5 \\end{vmatrix} = (1)(5) - (4)(1) = 5 - 4 = 1\n",
        "$$\n",
        "\n",
        "Substitute:\n",
        "$$\n",
        "\\text{det}(\\mathbf{F}) = 2(22) - (-3)(5) + 1(1) = 44 + 15 + 1 = 60\n",
        "$$\n",
        "\n",
        "---\n",
        "\n",
        "## Final Results\n",
        "1. $$ \\text{det}(\\mathbf{A}) = 5 $$\n",
        "2. $$ \\text{det}(\\mathbf{B}) = -2 $$\n",
        "3. $$ \\text{det}(\\mathbf{C}) = -6 $$\n",
        "4. $$ \\text{det}(\\mathbf{D}) = -30 $$\n",
        "5. $$ \\text{det}(\\mathbf{E}) = 6 $$\n",
        "6. $$ \\text{det}(\\mathbf{F}) = 60 $$\n"
      ],
      "metadata": {
        "id": "a09EuMJaqlp2"
      }
    }
  ],
  "metadata": {
    "kernelspec": {
      "display_name": "Python 3",
      "language": "python",
      "name": "python3"
    },
    "language_info": {
      "codemirror_mode": {
        "name": "ipython",
        "version": 3
      },
      "file_extension": ".py",
      "mimetype": "text/x-python",
      "name": "python",
      "nbconvert_exporter": "python",
      "pygments_lexer": "ipython3",
      "version": "3.11.9"
    },
    "colab": {
      "provenance": []
    }
  },
  "nbformat": 4,
  "nbformat_minor": 0
}